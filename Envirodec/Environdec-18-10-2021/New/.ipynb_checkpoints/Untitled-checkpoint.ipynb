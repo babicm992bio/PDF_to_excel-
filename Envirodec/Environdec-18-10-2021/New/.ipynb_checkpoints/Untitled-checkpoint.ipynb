{
 "cells": [
  {
   "cell_type": "code",
   "execution_count": 4,
   "id": "06526718",
   "metadata": {},
   "outputs": [],
   "source": [
    "import camelot\n",
    "import pandas as pd\n",
    "import openpyxl\n",
    "# tables = camelot.read_pdf('epd1388_2021.pdf', pages='10',process_background=True)\n",
    "# tables = camelot.read_pdf('./IBU-09-20/New/14632.pdf', pages='6', split_text=True,table_areas=[\"69.60548391889084,500.088593765987,525.3099336281931,403.96614296894364\"])\n",
    "# print(len(tables))\n",
    "\n",
    "# tables = camelot.read_pdf('./New/14699.pdf', pages='all')\n",
    "# print(len(tables))"
   ]
  },
  {
   "cell_type": "code",
   "execution_count": 77,
   "id": "252695fc",
   "metadata": {},
   "outputs": [],
   "source": [
    "headers = [\n",
    "    \"impactGWP100_kgCO2e\",\n",
    "    \"impactODP_kgCFC11e\",\n",
    "    \"impactAP_kgSO2e\",\n",
    "    \"impactEP_kgPO4e\",\n",
    "    \"impactPOCP_kgEthenee\",\n",
    "    \"impactADPElements_kgSbe\",\n",
    "    \"impactADPFossilFuels_MJ\",\n",
    "    \n",
    "    \"renewablesUsedAsEnergy_MJ\",\n",
    "    \"renewablesUsedAsMaterial_MJ\",\n",
    "    \"embodiedRenewableEnergy_MJ\",\n",
    "    \"nonRenewablesUsedAsEnergy_MJ\",\n",
    "    \"nonRenewablesUsedAsMaterial_MJ\",\n",
    "    \"embodiedEnergy_MJ\",\n",
    "    \n",
    "    \"recyclingMaterialUse_kg\",\n",
    "    \"renewableRecylingFuelUse_MJ\",\n",
    "    \"nonRenewableRecylingFuelUse_MJ\",\n",
    "    \"cleanWaterNetUse_m3\",\n",
    "    \"wasteHazardous_kg\",\n",
    "    \"wasteNonHazardous_kg\",\n",
    "    \"wasteRadioactive_kg\",\n",
    "    \"reusableMaterialsOutput_kg\",\n",
    "    \"recyclableMaterialsOutput_kg\",\n",
    "    \"energyMaterialsOutput_kg\",\n",
    "    \"exportedEnergyOutput_MJ_thermal\",\n",
    "    \"exportedEnergyOutput_MJ_electric\",\n",
    "    \"exportedEnergyOutput_MJ\",\n",
    "    \n",
    "    \"traciGWP_kgCO2e\",\n",
    "    \"traciODP_kgCFC11e\",\n",
    "    \"traciAP_kgSO2e\",\n",
    "    \"traciEP_kgNe\",\n",
    "    \"traciPOCP_kgO3e\",\n",
    "    \"traciNRPE_MJ\"\n",
    "]\n",
    "columns = {                                                                                                   \n",
    "  \"impactGWP100_kgCO2e\": \"(^GWP - Total$)|(^GWP$)|(^Global warming potential$)|(^Globales Erwärmungspotenzial ­ total$)|(^Globales Erwärmungspotenzial$)\",\n",
    "  \"impactODP_kgCFC11e\": \"(^ODP$)|(^Abbaupotenzial der stratosphärischen Ozonschicht$)|(^Depletion potential of the stratospheric ozone layer$)\",\n",
    "  \"impactAP_kgSO2e\": \"(^AP$)|(^AP Air$)|(^Versauerungspotenzial von Boden und Wasser$)|(^Acidification potential of land and water$)\",\n",
    "  \"impactEP_kgPO4e\": \"(^\\*EP - Freshwater$)|(^EP$)|(^Eutrophierungspotenzial$)|(^Eutrophication potential)\",\n",
    "  \"impactPOCP_kgEthenee\": \"(^POCP$)|(^Bildungspotenzial für troposphärisches Ozon$)|(^Formation potential of tropospheric ozone photochemical \\noxidants)\",\n",
    "  \"impactADPElements_kgSbe\": \"(^ADPE$)|(^Potenzial für die Verknappung abiotischer Ressourcen \\xad \\nnicht fossile Ressourcen$)|(^Potenzial für die Verknappung abiotischer Ressourcen - \\nnicht fossile Ressourcen$)|(^Abiotic depletion potential for non-fossil resources)\",\n",
    "  \"impactADPFossilFuels_MJ\": \"(^ADPF$)|(^Potenzial für die Verknappung abiotischer Ressourcen \\xad \\nfossile Brennstoffe$)|(^Potenzial für die Verknappung abiotischer Ressourcen - \\nfossile Brennstoffe$)|(^Abiotic depletion potential for fossil resources)\",\n",
    "    \n",
    "  \"renewablesUsedAsEnergy_MJ\": \"(^PERE$)|(^Erneuerbare Primärenergie als Energieträger$)|(^Renewable primary energy as energy carrier$)\",\n",
    "  \"renewablesUsedAsMaterial_MJ\": \"(^PERM$)|(^Erneuerbare Primärenergie zur stofflichen Nutzung$)|(^Renewable primary energy resources as material utilization$)\",\n",
    "  \"embodiedRenewableEnergy_MJ\": \"(^PERT$)|(^Total erneuerbare Primärenergie$)|(^Total use of renewable primary energy resources$)\",\n",
    "  \"nonRenewablesUsedAsEnergy_MJ\": \"(^PENRE$)|(^Nicht-erneuerbare Primärenergie als Energieträger$)|(^Nicht\\xaderneuerbare Primärenergie als Energieträger$)|(^Non-renewable primary energy as energy carrier$)\",\n",
    "  \"nonRenewablesUsedAsMaterial_MJ\": \"(^PENRM$)|(^Nicht-erneuerbare Primärenergie zur stofflichen Nutzung$)|(^Nicht\\xaderneuerbare Primärenergie zur stofflichen Nutzung$)|(^Non-renewable primary energy as material utilization$)\",\n",
    "  \"embodiedEnergy_MJ\": \"(^PENRT$)|(^Total nicht erneuerbare Primärenergie$)|(^Total use of non-renewable primary energy resources$)\",\n",
    "  \"recyclingMaterialUse_kg\": \"(^SM$)|(^Einsatz von Sekundärstoffen$)|(^Use of secondary material$)\",\n",
    "  \"renewableRecylingFuelUse_MJ\": \"(^RSF$)|(^Erneuerbare Sekundärbrennstoffe$)|(^Use of renewable secondary fuels$)\",\n",
    "  \"nonRenewableRecylingFuelUse_MJ\": \"(^NRSF$)|(^Nicht-erneuerbare Sekundärbrennstoffe$)|(^Nicht\\xaderneuerbare Sekundärbrennstoffe$)|(^Use of non-renewable secondary fuels$)\",\n",
    "  \"cleanWaterNetUse_m3\": \"(^FW$)|(^Nettoeinsatz von Süßwasserressourcen$)|(^Use of net fresh water$)\",\n",
    "    \n",
    "  \"wasteHazardous_kg\": \"(^HWD$)|(^Gefährlicher Abfall zur Deponie$)|(^Hazardous waste disposed$)\",\n",
    "  \"wasteNonHazardous_kg\": \"(^NHWD$)|(^Entsorgter nicht gefährlicher Abfall$)|(^Non-hazardous waste disposed$)\",\n",
    "  \"wasteRadioactive_kg\": \"(^RWD$)|(^Entsorgter radioaktiver Abfall$)|(^Radioactive waste disposed$)\",\n",
    "  \"reusableMaterialsOutput_kg\": \"(^CRU$)|(^Komponenten für die Wiederverwendung$)|(^Components for re-use$)\",\n",
    "  \"recyclableMaterialsOutput_kg\": \"(^MFR$)|(^Stoffe zum Recycling$)|(^Materials for recycling$)\",\n",
    "  \"energyMaterialsOutput_kg\": \"(^MER$)|(^Stoffe für die Energierückgewinnung)|(^Materials for energy recovery$)\",\n",
    "  \"exportedEnergyOutput_MJ_electric\": \"(^EEE$)|(^Exportierte elektrische Energie$)|(^Exported electrical energy$)\",\n",
    "  \"exportedEnergyOutput_MJ_thermal\": \"(^EET$)|(^Exportierte thermische Energie$)|(^Exported thermal energy$)\",\n",
    "  \"exportedEnergyOutput_MJ\": \"(^EE$)\",\n",
    "    \n",
    "  \"traciGWP_kgCO2e\": 8,\n",
    "  \"traciODP_kgCFC11e\": 12,\n",
    "  \"traciAP_kgSO2e\": 6,\n",
    "  \"traciEP_kgNe\": 7,\n",
    "  \"traciPOCP_kgO3e\": 10,\n",
    "  \"traciNRPE_MJ\": 17\n",
    "}"
   ]
  },
  {
   "cell_type": "code",
   "execution_count": 78,
   "id": "7c2e7802",
   "metadata": {},
   "outputs": [],
   "source": [
    "def make_excel_file(files_data):\n",
    "    book = openpyxl.Workbook()\n",
    "    filename = 'test_env.xlsx'\n",
    "    book.save(filename)\n",
    "\n",
    "    sheet = book['Sheet']\n",
    "    sheet.cell(row=1, column=1).value = 'Filename'\n",
    "    sheet.cell(row=1, column=2).value = 'EPD_Number'\n",
    "    sheet.cell(row=1, column=3).value = 'DownloadLink'\n",
    "    sheet.cell(row=1, column=4).value = 'Stages'\n",
    "    \n",
    "    count = 5\n",
    "    for header in headers:\n",
    "        sheet.cell(row=1, column=count).value = header\n",
    "        count += 1\n",
    "    \n",
    "    current_row = 2\n",
    "    for file_data in files_data:\n",
    "        print(file_data[\"file_name\"])\n",
    "        print(file_data[\"type\"])\n",
    "        print(file_data[\"stages\"])\n",
    "        print(\"*******************\")\n",
    "        df = file_data[\"dataFrame\"]\n",
    "        base_added = False\n",
    "        \n",
    "#         if file_data[\"type\"] == 1 :\n",
    "        for stage in file_data[\"stages\"]:\n",
    "            if not base_added:\n",
    "                sheet.cell(row=current_row, column=1).value = file_data[\"file_name\"]\n",
    "                sheet.cell(row=current_row, column=2).value = 'NO NUMBER CHECK IT!'\n",
    "                sheet.cell(row=current_row, column=3).value = '/mnt/data/Downloads/2021-10-18/IBU/New/' + file_data[\"file_name\"]\n",
    "                base_added = True\n",
    "\n",
    "            sheet.cell(row=current_row, column=4).value = stage\n",
    "            header_counter = 0\n",
    "            for header in headers:\n",
    "                \n",
    "#                 i = file_data[\"stages\"].index(stage) + 2\n",
    "#                 sheet.cell(row=current_row, column= 5 + header_counter).number_format = '0.000E+00'\n",
    "#                 value = float(df[df[0].str.contains(columns2[header])][i].to_list()[0])\n",
    "#                 #value = float(df[df.eq(columns[header]).any(1)][i].to_list()[0])\n",
    "# #                 sheet.cell(row=current_row, column= 5 + header_counter).value = value\n",
    "                try:\n",
    "                    num_of_columns = len(df.columns)                    \n",
    "                    i = file_data[\"stages\"].index(stage) + (num_of_columns - len(file_data[\"stages\"]))\n",
    "                    sheet.cell(row=current_row, column= 5 + header_counter).number_format = '0.000E+00'\n",
    "                    replaced = df[df[0].str.contains(columns[header])][i].to_list()[0].replace(',', '.')\n",
    "                    if not replaced == 'IND':\n",
    "                        try:\n",
    "                            value = float(replaced)\n",
    "                        except:\n",
    "                            value = float(replaced.replace('\\xad', '-'))\n",
    "                    else:\n",
    "                        value = replaced\n",
    "                        \n",
    "                    #value = float(df[df.eq(columns[header]).any(1)][i].to_list()[0])\n",
    "                    sheet.cell(row=current_row, column= 5 + header_counter).value = value\n",
    "                except:\n",
    "                    print(\"**************************************ERRROR*****************************\")\n",
    "                    print(file_data[\"file_name\"])\n",
    "                    print(stage)\n",
    "                    print(columns[header])\n",
    "                header_counter= header_counter +1\n",
    "            current_row = current_row + 1\n",
    "        current_row = current_row + 1\n",
    "            \n",
    "    book.save(filename)\n",
    "    book.close()"
   ]
  },
  {
   "cell_type": "code",
   "execution_count": 79,
   "id": "4efcf68b",
   "metadata": {},
   "outputs": [
    {
     "name": "stdout",
     "output_type": "stream",
     "text": [
      "************ FILE NAME: epd4040.pdf ****************\n"
     ]
    },
    {
     "ename": "IndexError",
     "evalue": "index 0 is out of bounds for axis 0 with size 0",
     "output_type": "error",
     "traceback": [
      "\u001b[1;31m---------------------------------------------------------------------------\u001b[0m",
      "\u001b[1;31mTypeError\u001b[0m                                 Traceback (most recent call last)",
      "\u001b[1;32m<ipython-input-79-adc9bb02fa85>\u001b[0m in \u001b[0;36m<module>\u001b[1;34m\u001b[0m\n\u001b[0;32m     23\u001b[0m                         \u001b[0mdroped_nan\u001b[0m \u001b[1;33m=\u001b[0m \u001b[1;33m[\u001b[0m\u001b[1;33m]\u001b[0m\u001b[1;33m\u001b[0m\u001b[1;33m\u001b[0m\u001b[0m\n\u001b[1;32m---> 24\u001b[1;33m                         \u001b[0mlists\u001b[0m \u001b[1;33m=\u001b[0m \u001b[0mlist\u001b[0m\u001b[1;33m(\u001b[0m\u001b[0mdf\u001b[0m\u001b[1;33m[\u001b[0m\u001b[0mdf\u001b[0m\u001b[1;33m.\u001b[0m\u001b[0meq\u001b[0m\u001b[1;33m(\u001b[0m\u001b[1;34m'Unit'\u001b[0m\u001b[1;33m)\u001b[0m\u001b[1;33m.\u001b[0m\u001b[0many\u001b[0m\u001b[1;33m(\u001b[0m\u001b[1;36m1\u001b[0m\u001b[1;33m)\u001b[0m\u001b[1;33m]\u001b[0m\u001b[1;33m.\u001b[0m\u001b[0mvalues\u001b[0m\u001b[1;33m)\u001b[0m\u001b[1;33m\u001b[0m\u001b[1;33m\u001b[0m\u001b[0m\n\u001b[0m\u001b[0;32m     25\u001b[0m                         \u001b[1;32mfor\u001b[0m \u001b[0mlist\u001b[0m \u001b[1;32min\u001b[0m \u001b[0mlists\u001b[0m\u001b[1;33m:\u001b[0m\u001b[1;33m\u001b[0m\u001b[1;33m\u001b[0m\u001b[0m\n",
      "\u001b[1;31mTypeError\u001b[0m: 'numpy.ndarray' object is not callable",
      "\nDuring handling of the above exception, another exception occurred:\n",
      "\u001b[1;31mIndexError\u001b[0m                                Traceback (most recent call last)",
      "\u001b[1;32m<ipython-input-79-adc9bb02fa85>\u001b[0m in \u001b[0;36m<module>\u001b[1;34m\u001b[0m\n\u001b[0;32m     32\u001b[0m                         \u001b[0mstages\u001b[0m \u001b[1;33m=\u001b[0m \u001b[0mlongest_list\u001b[0m\u001b[1;33m[\u001b[0m\u001b[0munit_index\u001b[0m\u001b[1;33m:\u001b[0m\u001b[1;33m]\u001b[0m\u001b[1;33m\u001b[0m\u001b[1;33m\u001b[0m\u001b[0m\n\u001b[0;32m     33\u001b[0m                     \u001b[1;32mexcept\u001b[0m\u001b[1;33m:\u001b[0m\u001b[1;33m\u001b[0m\u001b[1;33m\u001b[0m\u001b[0m\n\u001b[1;32m---> 34\u001b[1;33m                         \u001b[0ma\u001b[0m \u001b[1;33m=\u001b[0m \u001b[0mlist\u001b[0m\u001b[1;33m(\u001b[0m\u001b[0mdf\u001b[0m\u001b[1;33m[\u001b[0m\u001b[0mdf\u001b[0m\u001b[1;33m.\u001b[0m\u001b[0meq\u001b[0m\u001b[1;33m(\u001b[0m\u001b[1;34m'Einheit'\u001b[0m\u001b[1;33m)\u001b[0m\u001b[1;33m.\u001b[0m\u001b[0many\u001b[0m\u001b[1;33m(\u001b[0m\u001b[1;36m1\u001b[0m\u001b[1;33m)\u001b[0m\u001b[1;33m]\u001b[0m\u001b[1;33m.\u001b[0m\u001b[0mvalues\u001b[0m\u001b[1;33m[\u001b[0m\u001b[1;36m0\u001b[0m\u001b[1;33m]\u001b[0m\u001b[1;33m)\u001b[0m\u001b[1;33m\u001b[0m\u001b[1;33m\u001b[0m\u001b[0m\n\u001b[0m\u001b[0;32m     35\u001b[0m                         \u001b[0munit_index\u001b[0m \u001b[1;33m=\u001b[0m \u001b[0ma\u001b[0m\u001b[1;33m.\u001b[0m\u001b[0mindex\u001b[0m\u001b[1;33m(\u001b[0m\u001b[1;34m'Einheit'\u001b[0m\u001b[1;33m)\u001b[0m \u001b[1;33m+\u001b[0m \u001b[1;36m1\u001b[0m\u001b[1;33m\u001b[0m\u001b[1;33m\u001b[0m\u001b[0m\n\u001b[0;32m     36\u001b[0m                         \u001b[0mstages\u001b[0m \u001b[1;33m=\u001b[0m \u001b[0ma\u001b[0m\u001b[1;33m[\u001b[0m\u001b[0munit_index\u001b[0m\u001b[1;33m:\u001b[0m\u001b[1;33m]\u001b[0m\u001b[1;33m\u001b[0m\u001b[1;33m\u001b[0m\u001b[0m\n",
      "\u001b[1;31mIndexError\u001b[0m: index 0 is out of bounds for axis 0 with size 0"
     ]
    }
   ],
   "source": [
    "files = os.listdir('./4')\n",
    "types = {}\n",
    "\n",
    "r = []\n",
    "for file in files:\n",
    "    tables = camelot.read_pdf('./4/' + file, pages='all')\n",
    "    print(\"************ FILE NAME: \" + file + \" ****************\")\n",
    "    dataFrames = []\n",
    "\n",
    "    types[file] = []\n",
    "    file_info = {}\n",
    "    stages = []\n",
    "    for table in tables:\n",
    "        df = table.df\n",
    "        stages_added = False\n",
    "        #dataFrames = []\n",
    "        gwp = ['GWP-total', 'GWP - Total', 'Global warming potential', 'GWP', 'Globales Erwärmungspotenzial ­ total', 'Globales Erwärmungspotenzial']\n",
    "        for g in gwp:\n",
    "            #if ('GWP-total' in df.values) or ('Global warming potential' in df.values) or ('GWP' in df.values) or ('Globales Erwärmungspotenzial ­ total' in df.values) or ('Globales Erwärmungspotenzial' in df.values):\n",
    "            if (g in df.values) and ('TRACI 2.1 Impact Assessment' not in df.values):\n",
    "                if not stages_added:\n",
    "                    try:\n",
    "                        droped_nan = []\n",
    "                        lists = list(df[df.eq('Unit').any(1)].values)\n",
    "                        for list in lists:\n",
    "                            r = [e for e in row if str(e) != 'nan']\n",
    "                            droped_nan.append(r)\n",
    "                        lengh_of_droped_nan = [len(list) for list in droped_nan]\n",
    "                        longest_list = droped_nan[lengh_of_droped_nan.index(max(lengh_of_droped_nan))]\n",
    "                            \n",
    "                        unit_index = longest_list.index('Unit') + 1\n",
    "                        stages = longest_list[unit_index:]\n",
    "                    except:\n",
    "                        a = list(df[df.eq('Einheit').any(1)].values[0])\n",
    "                        unit_index = a.index('Einheit') + 1\n",
    "                        stages = a[unit_index:]\n",
    "                    stages_added = True\n",
    "\n",
    "                dataFrames.append(df)\n",
    "                types[file].append(g)\n",
    "\n",
    "        pere = ['PERE', 'Renewable primary energy as energy carrier', 'Erneuerbare Primärenergie als Energieträger']\n",
    "        for p in pere:\n",
    "            if p in df.values:\n",
    "        #if ('PERE' in df.values) or ('Renewable primary energy as energy carrier' in df.values) or ('Erneuerbare Primärenergie als Energieträger' in df.values):\n",
    "           # display(df)\n",
    "                dataFrames.append(df)\n",
    "                types[file].append(p)\n",
    "        hwd = ['HWD', 'Hazardous waste disposed', 'Gefährlicher Abfall zur Deponie']\n",
    "        for h in hwd:\n",
    "        #if ('HWD' in df.values) or ('Hazardous waste disposed' in df.values) or ('Gefährlicher Abfall zur Deponie' in df.values):\n",
    "            if h in df.values:\n",
    "                #display(df), \n",
    "                dataFrames.append(df)\n",
    "                types[file].append(h)\n",
    "                \n",
    "    result = pd.concat(dataFrames)\n",
    "    #display(result)\n",
    "    file_info[\"dataFrame\"] = result\n",
    "    if types[file] == ['GWP-total', 'PERE', 'HWD']:\n",
    "        file_info[\"type\"] = 1\n",
    "    else:\n",
    "        file_info[\"type\"] = 0\n",
    "        \n",
    "    file_info[\"file_name\"] = file\n",
    "    file_info[\"stages\"] = stages\n",
    "    \n",
    "    r.append(file_info)\n",
    "    \n",
    "    #write_to_excel(dataFrame, stages)\n",
    "make_excel_file(r)\n",
    "\n",
    "# print(types)\n",
    "# r"
   ]
  },
  {
   "cell_type": "code",
   "execution_count": null,
   "id": "7f66534c",
   "metadata": {},
   "outputs": [],
   "source": []
  },
  {
   "cell_type": "code",
   "execution_count": null,
   "id": "405177d9",
   "metadata": {},
   "outputs": [],
   "source": []
  },
  {
   "cell_type": "code",
   "execution_count": null,
   "id": "4efed15b",
   "metadata": {},
   "outputs": [],
   "source": []
  },
  {
   "cell_type": "code",
   "execution_count": 6,
   "id": "204599d4",
   "metadata": {},
   "outputs": [
    {
     "name": "stdout",
     "output_type": "stream",
     "text": [
      "4\n"
     ]
    }
   ],
   "source": [
    "tables = camelot.read_pdf('./4/epd4042.pdf', pages='all')\n",
    "print(len(tables))"
   ]
  },
  {
   "cell_type": "code",
   "execution_count": 16,
   "id": "78a29992",
   "metadata": {},
   "outputs": [
    {
     "data": {
      "text/plain": [
       "'GWP - Total'"
      ]
     },
     "execution_count": 16,
     "metadata": {},
     "output_type": "execute_result"
    }
   ],
   "source": [
    "tables[1].df[0][4]"
   ]
  },
  {
   "cell_type": "code",
   "execution_count": 47,
   "id": "c63cb3dc",
   "metadata": {},
   "outputs": [
    {
     "data": {
      "text/plain": [
       "'epd4061.pdf'"
      ]
     },
     "execution_count": 47,
     "metadata": {},
     "output_type": "execute_result"
    }
   ],
   "source": [
    "r[20]['file_name']"
   ]
  },
  {
   "cell_type": "code",
   "execution_count": 26,
   "id": "8437197a",
   "metadata": {},
   "outputs": [
    {
     "data": {
      "text/plain": [
       "['GWP - Total', 'PENRE', 'CRU']"
      ]
     },
     "execution_count": 26,
     "metadata": {},
     "output_type": "execute_result"
    }
   ],
   "source": [
    "r[0]['dataFrame'][0][4].to_list()"
   ]
  },
  {
   "cell_type": "code",
   "execution_count": 46,
   "id": "b931f09f",
   "metadata": {},
   "outputs": [
    {
     "name": "stderr",
     "output_type": "stream",
     "text": [
      "C:\\Users\\mirol\\anaconda3\\lib\\site-packages\\pandas\\core\\strings\\accessor.py:101: UserWarning: This pattern has match groups. To actually get the groups, use str.extract.\n",
      "  return func(self, *args, **kwargs)\n"
     ]
    },
    {
     "data": {
      "text/plain": [
       "0     False\n",
       "1     False\n",
       "2     False\n",
       "3     False\n",
       "4     False\n",
       "5     False\n",
       "6     False\n",
       "7     False\n",
       "8      True\n",
       "9     False\n",
       "10    False\n",
       "11    False\n",
       "12    False\n",
       "13    False\n",
       "14    False\n",
       "15    False\n",
       "16    False\n",
       "17    False\n",
       "18    False\n",
       "19    False\n",
       "20    False\n",
       "21    False\n",
       "22    False\n",
       "23    False\n",
       "24    False\n",
       "25    False\n",
       "0     False\n",
       "1     False\n",
       "2     False\n",
       "3     False\n",
       "4     False\n",
       "5     False\n",
       "6     False\n",
       "7     False\n",
       "8     False\n",
       "9     False\n",
       "10    False\n",
       "11    False\n",
       "12    False\n",
       "0     False\n",
       "1     False\n",
       "2     False\n",
       "3     False\n",
       "4     False\n",
       "5     False\n",
       "6     False\n",
       "7     False\n",
       "8     False\n",
       "9     False\n",
       "10    False\n",
       "Name: 0, dtype: bool"
      ]
     },
     "execution_count": 46,
     "metadata": {},
     "output_type": "execute_result"
    }
   ],
   "source": [
    "r[0]['dataFrame'][0].str.contains(\"(^\\*EP - Freshwater$)|(^EP$)|(^Eutrophierungspotenzial$)|(^Eutrophication potential)\")"
   ]
  },
  {
   "cell_type": "code",
   "execution_count": 80,
   "id": "634d6fd8",
   "metadata": {},
   "outputs": [
    {
     "ename": "IndexError",
     "evalue": "list index out of range",
     "output_type": "error",
     "traceback": [
      "\u001b[1;31m---------------------------------------------------------------------------\u001b[0m",
      "\u001b[1;31mIndexError\u001b[0m                                Traceback (most recent call last)",
      "\u001b[1;32m<ipython-input-80-73085b1e4341>\u001b[0m in \u001b[0;36m<module>\u001b[1;34m\u001b[0m\n\u001b[1;32m----> 1\u001b[1;33m \u001b[0mtest_df\u001b[0m \u001b[1;33m=\u001b[0m \u001b[0mr\u001b[0m\u001b[1;33m[\u001b[0m\u001b[1;36m0\u001b[0m\u001b[1;33m]\u001b[0m\u001b[1;33m[\u001b[0m\u001b[1;34m'dataFrame'\u001b[0m\u001b[1;33m]\u001b[0m\u001b[1;33m\u001b[0m\u001b[1;33m\u001b[0m\u001b[0m\n\u001b[0m\u001b[0;32m      2\u001b[0m \u001b[0mtest_df\u001b[0m\u001b[1;33m\u001b[0m\u001b[1;33m\u001b[0m\u001b[0m\n",
      "\u001b[1;31mIndexError\u001b[0m: list index out of range"
     ]
    }
   ],
   "source": [
    "test_df = r[0]['dataFrame']\n",
    "test_df"
   ]
  },
  {
   "cell_type": "code",
   "execution_count": 49,
   "id": "a148ecef",
   "metadata": {},
   "outputs": [],
   "source": [
    "a = list(test_df[test_df.eq('Unit').any(1)].values[0])\n",
    "unit_index = a.index('Unit') + 1\n",
    "stages = a[unit_index:]"
   ]
  },
  {
   "cell_type": "code",
   "execution_count": 51,
   "id": "e150218d",
   "metadata": {},
   "outputs": [
    {
     "data": {
      "text/plain": [
       "8"
      ]
     },
     "execution_count": 51,
     "metadata": {},
     "output_type": "execute_result"
    }
   ],
   "source": [
    "len(stages)"
   ]
  },
  {
   "cell_type": "code",
   "execution_count": 52,
   "id": "9783646d",
   "metadata": {},
   "outputs": [
    {
     "data": {
      "text/plain": [
       "['A1-A3', 'A4', 'C1', 'C2', 'C3', 'C4', 'D', nan]"
      ]
     },
     "execution_count": 52,
     "metadata": {},
     "output_type": "execute_result"
    }
   ],
   "source": [
    "stages"
   ]
  },
  {
   "cell_type": "code",
   "execution_count": 64,
   "id": "79abe4fa",
   "metadata": {},
   "outputs": [
    {
     "data": {
      "text/plain": [
       "array(['Impact \\nCategory', 'Unit', 'A1-A3', 'A4', 'C1', 'C2', 'C3', 'C4',\n",
       "       'D', nan], dtype=object)"
      ]
     },
     "execution_count": 64,
     "metadata": {},
     "output_type": "execute_result"
    }
   ],
   "source": [
    "test_df[test_df.eq('Unit').any(1)].values"
   ]
  },
  {
   "cell_type": "code",
   "execution_count": 74,
   "id": "9f505404",
   "metadata": {},
   "outputs": [
    {
     "data": {
      "text/plain": [
       "['Impact \\nCategory', 'Unit', 'A1-A3', 'A4', 'A5', 'C1', 'C2', 'C3', 'C4', 'D']"
      ]
     },
     "execution_count": 74,
     "metadata": {},
     "output_type": "execute_result"
    }
   ],
   "source": [
    "\n",
    "\n",
    "droped_nan = []\n",
    "for row in test_df[test_df.eq('Unit').any(1)].values: \n",
    "    r = [e for e in row if str(e) != 'nan']\n",
    "    droped_nan.append(r)\n",
    "droped_nan\n",
    "lengh_of_droped_nan = [len(list) for list in droped_nan]\n",
    "droped_nan[lengh_of_droped_nan.index(max(lengh_of_droped_nan))]\n"
   ]
  },
  {
   "cell_type": "code",
   "execution_count": 75,
   "id": "0abe249e",
   "metadata": {},
   "outputs": [],
   "source": [
    "droped_nan = []\n",
    "lists = list(test_df[test_df.eq('Unit').any(1)].values)\n",
    "for list in lists:\n",
    "    r = [e for e in row if str(e) != 'nan']\n",
    "    droped_nan.append(r)\n",
    "lengh_of_droped_nan = [len(list) for list in droped_nan]\n",
    "longest_list = droped_nan[lengh_of_droped_nan.index(max(lengh_of_droped_nan))]\n",
    "\n",
    "unit_index = longest_list.index('Unit') + 1\n",
    "stages = longest_list[unit_index:]"
   ]
  },
  {
   "cell_type": "code",
   "execution_count": 76,
   "id": "9a1b9580",
   "metadata": {},
   "outputs": [
    {
     "data": {
      "text/plain": [
       "['A1-A3', 'A4', 'A5', 'C1', 'C2', 'C3', 'C4', 'D']"
      ]
     },
     "execution_count": 76,
     "metadata": {},
     "output_type": "execute_result"
    }
   ],
   "source": [
    "stages"
   ]
  },
  {
   "cell_type": "code",
   "execution_count": null,
   "id": "f8deb69c",
   "metadata": {},
   "outputs": [],
   "source": []
  }
 ],
 "metadata": {
  "kernelspec": {
   "display_name": "Python 3",
   "language": "python",
   "name": "python3"
  },
  "language_info": {
   "codemirror_mode": {
    "name": "ipython",
    "version": 3
   },
   "file_extension": ".py",
   "mimetype": "text/x-python",
   "name": "python",
   "nbconvert_exporter": "python",
   "pygments_lexer": "ipython3",
   "version": "3.8.8"
  }
 },
 "nbformat": 4,
 "nbformat_minor": 5
}

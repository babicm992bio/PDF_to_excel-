{
 "cells": [
  {
   "cell_type": "code",
   "execution_count": 2,
   "id": "62fc00cd",
   "metadata": {},
   "outputs": [],
   "source": [
    "import camelot\n",
    "import pandas as pd\n",
    "import openpyxl\n",
    "import os\n",
    "# tables = camelot.read_pdf('epd1388_2021.pdf', pages='10',process_background=True)\n",
    "# tables = camelot.read_pdf('./IBU-09-20/New/14632.pdf', pages='6', split_text=True,table_areas=[\"69.60548391889084,500.088593765987,525.3099336281931,403.96614296894364\"])\n",
    "# print(len(tables))\n",
    "\n",
    "# tables = camelot.read_pdf('./New/14699.pdf', pages='all')\n",
    "# print(len(tables))"
   ]
  },
  {
   "cell_type": "code",
   "execution_count": 3,
   "id": "a066b139",
   "metadata": {},
   "outputs": [],
   "source": [
    "headers = [\n",
    "    \"impactGWP100_kgCO2e\",\n",
    "    \"impactODP_kgCFC11e\",\n",
    "    \"impactAP_kgSO2e\",\n",
    "    \"impactEP_kgPO4e\",\n",
    "    \"impactPOCP_kgEthenee\",\n",
    "    \"impactADPElements_kgSbe\",\n",
    "    \"impactADPFossilFuels_MJ\",\n",
    "    \n",
    "    \"renewablesUsedAsEnergy_MJ\",\n",
    "    \"renewablesUsedAsMaterial_MJ\",\n",
    "    \"embodiedRenewableEnergy_MJ\",\n",
    "    \"nonRenewablesUsedAsEnergy_MJ\",\n",
    "    \"nonRenewablesUsedAsMaterial_MJ\",\n",
    "    \"embodiedEnergy_MJ\",\n",
    "    \n",
    "    \"recyclingMaterialUse_kg\",\n",
    "    \"renewableRecylingFuelUse_MJ\",\n",
    "    \"nonRenewableRecylingFuelUse_MJ\",\n",
    "    \"cleanWaterNetUse_m3\",\n",
    "    \"wasteHazardous_kg\",\n",
    "    \"wasteNonHazardous_kg\",\n",
    "    \"wasteRadioactive_kg\",\n",
    "    \"reusableMaterialsOutput_kg\",\n",
    "    \"recyclableMaterialsOutput_kg\",\n",
    "    \"energyMaterialsOutput_kg\",\n",
    "    \"exportedEnergyOutput_MJ_thermal\",\n",
    "    \"exportedEnergyOutput_MJ_electric\",\n",
    "    \"exportedEnergyOutput_MJ\",\n",
    "    \n",
    "    \"traciGWP_kgCO2e\",\n",
    "    \"traciODP_kgCFC11e\",\n",
    "    \"traciAP_kgSO2e\",\n",
    "    \"traciEP_kgNe\",\n",
    "    \"traciPOCP_kgO3e\",\n",
    "    \"traciNRPE_MJ\"\n",
    "]\n",
    "columns = {                                                                                                   \n",
    "  \"impactGWP100_kgCO2e\": \"(^GWP - Total$)|(^GWP$)|(^Global warming potential$)|(^Globales Erwärmungspotenzial ­ total$)|(^Globales Erwärmungspotenzial$)\",\n",
    "  \"impactODP_kgCFC11e\": \"(^ODP$)|(^Abbaupotenzial der stratosphärischen Ozonschicht$)|(^Depletion potential of the stratospheric ozone layer$)\",\n",
    "  \"impactAP_kgSO2e\": \"(^AP$)|(^AP Air$)|(^Versauerungspotenzial von Boden und Wasser$)|(^Acidification potential of land and water$)\",\n",
    "  \"impactEP_kgPO4e\": \"(^\\*EP - Freshwater$)|(^EP$)|(^Eutrophierungspotenzial$)|(^Eutrophication potential)\",\n",
    "  \"impactPOCP_kgEthenee\": \"(^POCP$)|(^Bildungspotenzial für troposphärisches Ozon$)|(^Formation potential of tropospheric ozone photochemical \\noxidants)\",\n",
    "  \"impactADPElements_kgSbe\": \"(^ADPE$)|(^Potenzial für die Verknappung abiotischer Ressourcen \\xad \\nnicht fossile Ressourcen$)|(^Potenzial für die Verknappung abiotischer Ressourcen - \\nnicht fossile Ressourcen$)|(^Abiotic depletion potential for non-fossil resources)\",\n",
    "  \"impactADPFossilFuels_MJ\": \"(^ADPF$)|(^Potenzial für die Verknappung abiotischer Ressourcen \\xad \\nfossile Brennstoffe$)|(^Potenzial für die Verknappung abiotischer Ressourcen - \\nfossile Brennstoffe$)|(^Abiotic depletion potential for fossil resources)\",\n",
    "    \n",
    "  \"renewablesUsedAsEnergy_MJ\": \"(^PERE$)|(^Erneuerbare Primärenergie als Energieträger$)|(^Renewable primary energy as energy carrier$)\",\n",
    "  \"renewablesUsedAsMaterial_MJ\": \"(^PERM$)|(^Erneuerbare Primärenergie zur stofflichen Nutzung$)|(^Renewable primary energy resources as material utilization$)\",\n",
    "  \"embodiedRenewableEnergy_MJ\": \"(^PERT$)|(^Total erneuerbare Primärenergie$)|(^Total use of renewable primary energy resources$)\",\n",
    "  \"nonRenewablesUsedAsEnergy_MJ\": \"(^PENRE$)|(^Nicht-erneuerbare Primärenergie als Energieträger$)|(^Nicht\\xaderneuerbare Primärenergie als Energieträger$)|(^Non-renewable primary energy as energy carrier$)\",\n",
    "  \"nonRenewablesUsedAsMaterial_MJ\": \"(^PENRM$)|(^Nicht-erneuerbare Primärenergie zur stofflichen Nutzung$)|(^Nicht\\xaderneuerbare Primärenergie zur stofflichen Nutzung$)|(^Non-renewable primary energy as material utilization$)\",\n",
    "  \"embodiedEnergy_MJ\": \"(^PENRT$)|(^Total nicht erneuerbare Primärenergie$)|(^Total use of non-renewable primary energy resources$)\",\n",
    "  \"recyclingMaterialUse_kg\": \"(^SM$)|(^Einsatz von Sekundärstoffen$)|(^Use of secondary material$)\",\n",
    "  \"renewableRecylingFuelUse_MJ\": \"(^RSF$)|(^Erneuerbare Sekundärbrennstoffe$)|(^Use of renewable secondary fuels$)\",\n",
    "  \"nonRenewableRecylingFuelUse_MJ\": \"(^NRSF$)|(^Nicht-erneuerbare Sekundärbrennstoffe$)|(^Nicht\\xaderneuerbare Sekundärbrennstoffe$)|(^Use of non-renewable secondary fuels$)\",\n",
    "  \"cleanWaterNetUse_m3\": \"(^FW$)|(^Nettoeinsatz von Süßwasserressourcen$)|(^Use of net fresh water$)\",\n",
    "    \n",
    "  \"wasteHazardous_kg\": \"(^HWD$)|(^Gefährlicher Abfall zur Deponie$)|(^Hazardous waste disposed$)\",\n",
    "  \"wasteNonHazardous_kg\": \"(^NHWD$)|(^Entsorgter nicht gefährlicher Abfall$)|(^Non-hazardous waste disposed$)\",\n",
    "  \"wasteRadioactive_kg\": \"(^RWD$)|(^Entsorgter radioaktiver Abfall$)|(^Radioactive waste disposed$)\",\n",
    "  \"reusableMaterialsOutput_kg\": \"(^CRU$)|(^Komponenten für die Wiederverwendung$)|(^Components for re-use$)\",\n",
    "  \"recyclableMaterialsOutput_kg\": \"(^MFR$)|(^Stoffe zum Recycling$)|(^Materials for recycling$)\",\n",
    "  \"energyMaterialsOutput_kg\": \"(^MER$)|(^Stoffe für die Energierückgewinnung)|(^Materials for energy recovery$)\",\n",
    "  \"exportedEnergyOutput_MJ_electric\": \"(^EEE$)|(^Exportierte elektrische Energie$)|(^Exported electrical energy$)\",\n",
    "  \"exportedEnergyOutput_MJ_thermal\": \"(^EET$)|(^Exportierte thermische Energie$)|(^Exported thermal energy$)\",\n",
    "  \"exportedEnergyOutput_MJ\": \"(^EE$)\",\n",
    "    \n",
    "  \"traciGWP_kgCO2e\": 8,\n",
    "  \"traciODP_kgCFC11e\": 12,\n",
    "  \"traciAP_kgSO2e\": 6,\n",
    "  \"traciEP_kgNe\": 7,\n",
    "  \"traciPOCP_kgO3e\": 10,\n",
    "  \"traciNRPE_MJ\": 17\n",
    "}"
   ]
  },
  {
   "cell_type": "code",
   "execution_count": 4,
   "id": "01dd32b2",
   "metadata": {},
   "outputs": [],
   "source": [
    "def make_excel_file(files_data):\n",
    "    book = openpyxl.Workbook()\n",
    "    filename = 'test_env.xlsx'\n",
    "    book.save(filename)\n",
    "\n",
    "    sheet = book['Sheet']\n",
    "    sheet.cell(row=1, column=1).value = 'Filename'\n",
    "    sheet.cell(row=1, column=2).value = 'EPD_Number'\n",
    "    sheet.cell(row=1, column=3).value = 'DownloadLink'\n",
    "    sheet.cell(row=1, column=4).value = 'Stages'\n",
    "    \n",
    "    count = 5\n",
    "    for header in headers:\n",
    "        sheet.cell(row=1, column=count).value = header\n",
    "        count += 1\n",
    "    \n",
    "    current_row = 2\n",
    "    for file_data in files_data:\n",
    "        print(file_data[\"file_name\"])\n",
    "        print(file_data[\"type\"])\n",
    "        print(file_data[\"stages\"])\n",
    "        print(\"*******************\")\n",
    "        df = file_data[\"dataFrame\"]\n",
    "        base_added = False\n",
    "        \n",
    "#         if file_data[\"type\"] == 1 :\n",
    "        for stage in file_data[\"stages\"]:\n",
    "            if not base_added:\n",
    "                sheet.cell(row=current_row, column=1).value = file_data[\"file_name\"]\n",
    "                sheet.cell(row=current_row, column=2).value = 'NO NUMBER CHECK IT!'\n",
    "                sheet.cell(row=current_row, column=3).value = '/mnt/data/Downloads/2021-10-18/IBU/New/' + file_data[\"file_name\"]\n",
    "                base_added = True\n",
    "\n",
    "            sheet.cell(row=current_row, column=4).value = stage\n",
    "            header_counter = 0\n",
    "            for header in headers:\n",
    "                \n",
    "#                 i = file_data[\"stages\"].index(stage) + 2\n",
    "#                 sheet.cell(row=current_row, column= 5 + header_counter).number_format = '0.000E+00'\n",
    "#                 value = float(df[df[0].str.contains(columns2[header])][i].to_list()[0])\n",
    "#                 #value = float(df[df.eq(columns[header]).any(1)][i].to_list()[0])\n",
    "# #                 sheet.cell(row=current_row, column= 5 + header_counter).value = value\n",
    "                try:\n",
    "                    num_of_columns = len(df.columns)                    \n",
    "                    i = file_data[\"stages\"].index(stage) + (num_of_columns - len(file_data[\"stages\"]))\n",
    "                    sheet.cell(row=current_row, column= 5 + header_counter).number_format = '0.000E+00'\n",
    "                    replaced = df[df[0].str.contains(columns[header])][i].to_list()[0].replace(',', '.')\n",
    "                    if not replaced == 'IND':\n",
    "                        try:\n",
    "                            value = float(replaced)\n",
    "                        except:\n",
    "                            value = float(replaced.replace('\\xad', '-'))\n",
    "                    else:\n",
    "                        value = replaced\n",
    "                        \n",
    "                    #value = float(df[df.eq(columns[header]).any(1)][i].to_list()[0])\n",
    "                    sheet.cell(row=current_row, column= 5 + header_counter).value = value\n",
    "                except:\n",
    "                    print(\"**************************************ERRROR*****************************\")\n",
    "                    print(file_data[\"file_name\"])\n",
    "                    print(stage)\n",
    "                    print(columns[header])\n",
    "                header_counter= header_counter +1\n",
    "            current_row = current_row + 1\n",
    "        current_row = current_row + 1\n",
    "            \n",
    "    book.save(filename)\n",
    "    book.close()"
   ]
  },
  {
   "cell_type": "code",
   "execution_count": 6,
   "id": "bd203777",
   "metadata": {},
   "outputs": [
    {
     "ename": "PermissionError",
     "evalue": "[WinError 32] The process cannot access the file because it is being used by another process: 'C:\\\\Users\\\\mirol\\\\AppData\\\\Local\\\\Temp\\\\tmppdk1i5si\\\\page-12.png'",
     "output_type": "error",
     "traceback": [
      "\u001b[1;31m---------------------------------------------------------------------------\u001b[0m",
      "\u001b[1;31mKeyboardInterrupt\u001b[0m                         Traceback (most recent call last)",
      "\u001b[1;32m~\\anaconda3\\lib\\site-packages\\camelot\\handlers.py\u001b[0m in \u001b[0;36mparse\u001b[1;34m(self, flavor, suppress_stdout, layout_kwargs, **kwargs)\u001b[0m\n\u001b[0;32m    172\u001b[0m             \u001b[1;32mfor\u001b[0m \u001b[0mp\u001b[0m \u001b[1;32min\u001b[0m \u001b[0mpages\u001b[0m\u001b[1;33m:\u001b[0m\u001b[1;33m\u001b[0m\u001b[1;33m\u001b[0m\u001b[0m\n\u001b[1;32m--> 173\u001b[1;33m                 t = parser.extract_tables(\n\u001b[0m\u001b[0;32m    174\u001b[0m                     \u001b[0mp\u001b[0m\u001b[1;33m,\u001b[0m \u001b[0msuppress_stdout\u001b[0m\u001b[1;33m=\u001b[0m\u001b[0msuppress_stdout\u001b[0m\u001b[1;33m,\u001b[0m \u001b[0mlayout_kwargs\u001b[0m\u001b[1;33m=\u001b[0m\u001b[0mlayout_kwargs\u001b[0m\u001b[1;33m\u001b[0m\u001b[1;33m\u001b[0m\u001b[0m\n",
      "\u001b[1;32m~\\anaconda3\\lib\\site-packages\\camelot\\parsers\\lattice.py\u001b[0m in \u001b[0;36mextract_tables\u001b[1;34m(self, filename, suppress_stdout, layout_kwargs)\u001b[0m\n\u001b[0;32m    401\u001b[0m \u001b[1;33m\u001b[0m\u001b[0m\n\u001b[1;32m--> 402\u001b[1;33m         \u001b[0mself\u001b[0m\u001b[1;33m.\u001b[0m\u001b[0m_generate_image\u001b[0m\u001b[1;33m(\u001b[0m\u001b[1;33m)\u001b[0m\u001b[1;33m\u001b[0m\u001b[1;33m\u001b[0m\u001b[0m\n\u001b[0m\u001b[0;32m    403\u001b[0m         \u001b[0mself\u001b[0m\u001b[1;33m.\u001b[0m\u001b[0m_generate_table_bbox\u001b[0m\u001b[1;33m(\u001b[0m\u001b[1;33m)\u001b[0m\u001b[1;33m\u001b[0m\u001b[1;33m\u001b[0m\u001b[0m\n",
      "\u001b[1;32m~\\anaconda3\\lib\\site-packages\\camelot\\parsers\\lattice.py\u001b[0m in \u001b[0;36m_generate_image\u001b[1;34m(self)\u001b[0m\n\u001b[0;32m    218\u001b[0m         \u001b[0mnull\u001b[0m \u001b[1;33m=\u001b[0m \u001b[0mopen\u001b[0m\u001b[1;33m(\u001b[0m\u001b[0mos\u001b[0m\u001b[1;33m.\u001b[0m\u001b[0mdevnull\u001b[0m\u001b[1;33m,\u001b[0m \u001b[1;34m\"wb\"\u001b[0m\u001b[1;33m)\u001b[0m\u001b[1;33m\u001b[0m\u001b[1;33m\u001b[0m\u001b[0m\n\u001b[1;32m--> 219\u001b[1;33m         \u001b[1;32mwith\u001b[0m \u001b[0mGhostscript\u001b[0m\u001b[1;33m(\u001b[0m\u001b[1;33m*\u001b[0m\u001b[0mgs_call\u001b[0m\u001b[1;33m,\u001b[0m \u001b[0mstdout\u001b[0m\u001b[1;33m=\u001b[0m\u001b[0mnull\u001b[0m\u001b[1;33m)\u001b[0m \u001b[1;32mas\u001b[0m \u001b[0mgs\u001b[0m\u001b[1;33m:\u001b[0m\u001b[1;33m\u001b[0m\u001b[1;33m\u001b[0m\u001b[0m\n\u001b[0m\u001b[0;32m    220\u001b[0m             \u001b[1;32mpass\u001b[0m\u001b[1;33m\u001b[0m\u001b[1;33m\u001b[0m\u001b[0m\n",
      "\u001b[1;32m~\\anaconda3\\lib\\site-packages\\camelot\\ext\\ghostscript\\__init__.py\u001b[0m in \u001b[0;36mGhostscript\u001b[1;34m(*args, **kwargs)\u001b[0m\n\u001b[0;32m     88\u001b[0m         \u001b[0m__instance__\u001b[0m \u001b[1;33m=\u001b[0m \u001b[0mgs\u001b[0m\u001b[1;33m.\u001b[0m\u001b[0mnew_instance\u001b[0m\u001b[1;33m(\u001b[0m\u001b[1;33m)\u001b[0m\u001b[1;33m\u001b[0m\u001b[1;33m\u001b[0m\u001b[0m\n\u001b[1;32m---> 89\u001b[1;33m     return __Ghostscript(\n\u001b[0m\u001b[0;32m     90\u001b[0m         \u001b[0m__instance__\u001b[0m\u001b[1;33m,\u001b[0m\u001b[1;33m\u001b[0m\u001b[1;33m\u001b[0m\u001b[0m\n",
      "\u001b[1;32m~\\anaconda3\\lib\\site-packages\\camelot\\ext\\ghostscript\\__init__.py\u001b[0m in \u001b[0;36m__init__\u001b[1;34m(self, instance, args, stdin, stdout, stderr)\u001b[0m\n\u001b[0;32m     38\u001b[0m             \u001b[0mself\u001b[0m\u001b[1;33m.\u001b[0m\u001b[0mset_stdio\u001b[0m\u001b[1;33m(\u001b[0m\u001b[0mstdin\u001b[0m\u001b[1;33m,\u001b[0m \u001b[0mstdout\u001b[0m\u001b[1;33m,\u001b[0m \u001b[0mstderr\u001b[0m\u001b[1;33m)\u001b[0m\u001b[1;33m\u001b[0m\u001b[1;33m\u001b[0m\u001b[0m\n\u001b[1;32m---> 39\u001b[1;33m         \u001b[0mrc\u001b[0m \u001b[1;33m=\u001b[0m \u001b[0mgs\u001b[0m\u001b[1;33m.\u001b[0m\u001b[0minit_with_args\u001b[0m\u001b[1;33m(\u001b[0m\u001b[0minstance\u001b[0m\u001b[1;33m,\u001b[0m \u001b[0margs\u001b[0m\u001b[1;33m)\u001b[0m\u001b[1;33m\u001b[0m\u001b[1;33m\u001b[0m\u001b[0m\n\u001b[0m\u001b[0;32m     40\u001b[0m         \u001b[0mself\u001b[0m\u001b[1;33m.\u001b[0m\u001b[0m_initialized\u001b[0m \u001b[1;33m=\u001b[0m \u001b[1;32mTrue\u001b[0m\u001b[1;33m\u001b[0m\u001b[1;33m\u001b[0m\u001b[0m\n",
      "\u001b[1;32m~\\anaconda3\\lib\\site-packages\\camelot\\ext\\ghostscript\\_gsprint.py\u001b[0m in \u001b[0;36minit_with_args\u001b[1;34m(instance, argv)\u001b[0m\n\u001b[0;32m    171\u001b[0m     \u001b[0mc_argv\u001b[0m \u001b[1;33m=\u001b[0m \u001b[0mArgArray\u001b[0m\u001b[1;33m(\u001b[0m\u001b[1;33m*\u001b[0m\u001b[0margv\u001b[0m\u001b[1;33m)\u001b[0m\u001b[1;33m\u001b[0m\u001b[1;33m\u001b[0m\u001b[0m\n\u001b[1;32m--> 172\u001b[1;33m     \u001b[0mrc\u001b[0m \u001b[1;33m=\u001b[0m \u001b[0mlibgs\u001b[0m\u001b[1;33m.\u001b[0m\u001b[0mgsapi_init_with_args\u001b[0m\u001b[1;33m(\u001b[0m\u001b[0minstance\u001b[0m\u001b[1;33m,\u001b[0m \u001b[0mlen\u001b[0m\u001b[1;33m(\u001b[0m\u001b[0margv\u001b[0m\u001b[1;33m)\u001b[0m\u001b[1;33m,\u001b[0m \u001b[0mc_argv\u001b[0m\u001b[1;33m)\u001b[0m\u001b[1;33m\u001b[0m\u001b[1;33m\u001b[0m\u001b[0m\n\u001b[0m\u001b[0;32m    173\u001b[0m     \u001b[1;32mif\u001b[0m \u001b[0mrc\u001b[0m \u001b[1;32mnot\u001b[0m \u001b[1;32min\u001b[0m \u001b[1;33m(\u001b[0m\u001b[1;36m0\u001b[0m\u001b[1;33m,\u001b[0m \u001b[0me_Quit\u001b[0m\u001b[1;33m,\u001b[0m \u001b[0me_Info\u001b[0m\u001b[1;33m)\u001b[0m\u001b[1;33m:\u001b[0m\u001b[1;33m\u001b[0m\u001b[1;33m\u001b[0m\u001b[0m\n",
      "\u001b[1;31mKeyboardInterrupt\u001b[0m: ",
      "\nDuring handling of the above exception, another exception occurred:\n",
      "\u001b[1;31mPermissionError\u001b[0m                           Traceback (most recent call last)",
      "\u001b[1;32m<ipython-input-6-201f55277a52>\u001b[0m in \u001b[0;36m<module>\u001b[1;34m\u001b[0m\n\u001b[0;32m      4\u001b[0m \u001b[0mr\u001b[0m \u001b[1;33m=\u001b[0m \u001b[1;33m[\u001b[0m\u001b[1;33m]\u001b[0m\u001b[1;33m\u001b[0m\u001b[1;33m\u001b[0m\u001b[0m\n\u001b[0;32m      5\u001b[0m \u001b[1;32mfor\u001b[0m \u001b[0mfile\u001b[0m \u001b[1;32min\u001b[0m \u001b[0mfiles\u001b[0m\u001b[1;33m:\u001b[0m\u001b[1;33m\u001b[0m\u001b[1;33m\u001b[0m\u001b[0m\n\u001b[1;32m----> 6\u001b[1;33m     \u001b[0mtables\u001b[0m \u001b[1;33m=\u001b[0m \u001b[0mcamelot\u001b[0m\u001b[1;33m.\u001b[0m\u001b[0mread_pdf\u001b[0m\u001b[1;33m(\u001b[0m\u001b[1;34m'./4/'\u001b[0m \u001b[1;33m+\u001b[0m \u001b[0mfile\u001b[0m\u001b[1;33m,\u001b[0m \u001b[0mpages\u001b[0m\u001b[1;33m=\u001b[0m\u001b[1;34m'all'\u001b[0m\u001b[1;33m)\u001b[0m\u001b[1;33m\u001b[0m\u001b[1;33m\u001b[0m\u001b[0m\n\u001b[0m\u001b[0;32m      7\u001b[0m     \u001b[0mprint\u001b[0m\u001b[1;33m(\u001b[0m\u001b[1;34m\"************ FILE NAME: \"\u001b[0m \u001b[1;33m+\u001b[0m \u001b[0mfile\u001b[0m \u001b[1;33m+\u001b[0m \u001b[1;34m\" ****************\"\u001b[0m\u001b[1;33m)\u001b[0m\u001b[1;33m\u001b[0m\u001b[1;33m\u001b[0m\u001b[0m\n\u001b[0;32m      8\u001b[0m     \u001b[0mdataFrames\u001b[0m \u001b[1;33m=\u001b[0m \u001b[1;33m[\u001b[0m\u001b[1;33m]\u001b[0m\u001b[1;33m\u001b[0m\u001b[1;33m\u001b[0m\u001b[0m\n",
      "\u001b[1;32m~\\anaconda3\\lib\\site-packages\\camelot\\io.py\u001b[0m in \u001b[0;36mread_pdf\u001b[1;34m(filepath, pages, password, flavor, suppress_stdout, layout_kwargs, **kwargs)\u001b[0m\n\u001b[0;32m    111\u001b[0m         \u001b[0mp\u001b[0m \u001b[1;33m=\u001b[0m \u001b[0mPDFHandler\u001b[0m\u001b[1;33m(\u001b[0m\u001b[0mfilepath\u001b[0m\u001b[1;33m,\u001b[0m \u001b[0mpages\u001b[0m\u001b[1;33m=\u001b[0m\u001b[0mpages\u001b[0m\u001b[1;33m,\u001b[0m \u001b[0mpassword\u001b[0m\u001b[1;33m=\u001b[0m\u001b[0mpassword\u001b[0m\u001b[1;33m)\u001b[0m\u001b[1;33m\u001b[0m\u001b[1;33m\u001b[0m\u001b[0m\n\u001b[0;32m    112\u001b[0m         \u001b[0mkwargs\u001b[0m \u001b[1;33m=\u001b[0m \u001b[0mremove_extra\u001b[0m\u001b[1;33m(\u001b[0m\u001b[0mkwargs\u001b[0m\u001b[1;33m,\u001b[0m \u001b[0mflavor\u001b[0m\u001b[1;33m=\u001b[0m\u001b[0mflavor\u001b[0m\u001b[1;33m)\u001b[0m\u001b[1;33m\u001b[0m\u001b[1;33m\u001b[0m\u001b[0m\n\u001b[1;32m--> 113\u001b[1;33m         tables = p.parse(\n\u001b[0m\u001b[0;32m    114\u001b[0m             \u001b[0mflavor\u001b[0m\u001b[1;33m=\u001b[0m\u001b[0mflavor\u001b[0m\u001b[1;33m,\u001b[0m\u001b[1;33m\u001b[0m\u001b[1;33m\u001b[0m\u001b[0m\n\u001b[0;32m    115\u001b[0m             \u001b[0msuppress_stdout\u001b[0m\u001b[1;33m=\u001b[0m\u001b[0msuppress_stdout\u001b[0m\u001b[1;33m,\u001b[0m\u001b[1;33m\u001b[0m\u001b[1;33m\u001b[0m\u001b[0m\n",
      "\u001b[1;32m~\\anaconda3\\lib\\site-packages\\camelot\\handlers.py\u001b[0m in \u001b[0;36mparse\u001b[1;34m(self, flavor, suppress_stdout, layout_kwargs, **kwargs)\u001b[0m\n\u001b[0;32m    174\u001b[0m                     \u001b[0mp\u001b[0m\u001b[1;33m,\u001b[0m \u001b[0msuppress_stdout\u001b[0m\u001b[1;33m=\u001b[0m\u001b[0msuppress_stdout\u001b[0m\u001b[1;33m,\u001b[0m \u001b[0mlayout_kwargs\u001b[0m\u001b[1;33m=\u001b[0m\u001b[0mlayout_kwargs\u001b[0m\u001b[1;33m\u001b[0m\u001b[1;33m\u001b[0m\u001b[0m\n\u001b[0;32m    175\u001b[0m                 )\n\u001b[1;32m--> 176\u001b[1;33m                 \u001b[0mtables\u001b[0m\u001b[1;33m.\u001b[0m\u001b[0mextend\u001b[0m\u001b[1;33m(\u001b[0m\u001b[0mt\u001b[0m\u001b[1;33m)\u001b[0m\u001b[1;33m\u001b[0m\u001b[1;33m\u001b[0m\u001b[0m\n\u001b[0m\u001b[0;32m    177\u001b[0m         \u001b[1;32mreturn\u001b[0m \u001b[0mTableList\u001b[0m\u001b[1;33m(\u001b[0m\u001b[0msorted\u001b[0m\u001b[1;33m(\u001b[0m\u001b[0mtables\u001b[0m\u001b[1;33m)\u001b[0m\u001b[1;33m)\u001b[0m\u001b[1;33m\u001b[0m\u001b[1;33m\u001b[0m\u001b[0m\n",
      "\u001b[1;32m~\\anaconda3\\lib\\site-packages\\camelot\\utils.py\u001b[0m in \u001b[0;36m__exit__\u001b[1;34m(self, exc_type, exc_value, traceback)\u001b[0m\n\u001b[0;32m    142\u001b[0m \u001b[1;33m\u001b[0m\u001b[0m\n\u001b[0;32m    143\u001b[0m     \u001b[1;32mdef\u001b[0m \u001b[0m__exit__\u001b[0m\u001b[1;33m(\u001b[0m\u001b[0mself\u001b[0m\u001b[1;33m,\u001b[0m \u001b[0mexc_type\u001b[0m\u001b[1;33m,\u001b[0m \u001b[0mexc_value\u001b[0m\u001b[1;33m,\u001b[0m \u001b[0mtraceback\u001b[0m\u001b[1;33m)\u001b[0m\u001b[1;33m:\u001b[0m\u001b[1;33m\u001b[0m\u001b[1;33m\u001b[0m\u001b[0m\n\u001b[1;32m--> 144\u001b[1;33m         \u001b[0mshutil\u001b[0m\u001b[1;33m.\u001b[0m\u001b[0mrmtree\u001b[0m\u001b[1;33m(\u001b[0m\u001b[0mself\u001b[0m\u001b[1;33m.\u001b[0m\u001b[0mname\u001b[0m\u001b[1;33m)\u001b[0m\u001b[1;33m\u001b[0m\u001b[1;33m\u001b[0m\u001b[0m\n\u001b[0m\u001b[0;32m    145\u001b[0m \u001b[1;33m\u001b[0m\u001b[0m\n\u001b[0;32m    146\u001b[0m \u001b[1;33m\u001b[0m\u001b[0m\n",
      "\u001b[1;32m~\\anaconda3\\lib\\shutil.py\u001b[0m in \u001b[0;36mrmtree\u001b[1;34m(path, ignore_errors, onerror)\u001b[0m\n\u001b[0;32m    738\u001b[0m             \u001b[1;31m# can't continue even if onerror hook returns\u001b[0m\u001b[1;33m\u001b[0m\u001b[1;33m\u001b[0m\u001b[1;33m\u001b[0m\u001b[0m\n\u001b[0;32m    739\u001b[0m             \u001b[1;32mreturn\u001b[0m\u001b[1;33m\u001b[0m\u001b[1;33m\u001b[0m\u001b[0m\n\u001b[1;32m--> 740\u001b[1;33m         \u001b[1;32mreturn\u001b[0m \u001b[0m_rmtree_unsafe\u001b[0m\u001b[1;33m(\u001b[0m\u001b[0mpath\u001b[0m\u001b[1;33m,\u001b[0m \u001b[0monerror\u001b[0m\u001b[1;33m)\u001b[0m\u001b[1;33m\u001b[0m\u001b[1;33m\u001b[0m\u001b[0m\n\u001b[0m\u001b[0;32m    741\u001b[0m \u001b[1;33m\u001b[0m\u001b[0m\n\u001b[0;32m    742\u001b[0m \u001b[1;31m# Allow introspection of whether or not the hardening against symlink\u001b[0m\u001b[1;33m\u001b[0m\u001b[1;33m\u001b[0m\u001b[1;33m\u001b[0m\u001b[0m\n",
      "\u001b[1;32m~\\anaconda3\\lib\\shutil.py\u001b[0m in \u001b[0;36m_rmtree_unsafe\u001b[1;34m(path, onerror)\u001b[0m\n\u001b[0;32m    616\u001b[0m                 \u001b[0mos\u001b[0m\u001b[1;33m.\u001b[0m\u001b[0munlink\u001b[0m\u001b[1;33m(\u001b[0m\u001b[0mfullname\u001b[0m\u001b[1;33m)\u001b[0m\u001b[1;33m\u001b[0m\u001b[1;33m\u001b[0m\u001b[0m\n\u001b[0;32m    617\u001b[0m             \u001b[1;32mexcept\u001b[0m \u001b[0mOSError\u001b[0m\u001b[1;33m:\u001b[0m\u001b[1;33m\u001b[0m\u001b[1;33m\u001b[0m\u001b[0m\n\u001b[1;32m--> 618\u001b[1;33m                 \u001b[0monerror\u001b[0m\u001b[1;33m(\u001b[0m\u001b[0mos\u001b[0m\u001b[1;33m.\u001b[0m\u001b[0munlink\u001b[0m\u001b[1;33m,\u001b[0m \u001b[0mfullname\u001b[0m\u001b[1;33m,\u001b[0m \u001b[0msys\u001b[0m\u001b[1;33m.\u001b[0m\u001b[0mexc_info\u001b[0m\u001b[1;33m(\u001b[0m\u001b[1;33m)\u001b[0m\u001b[1;33m)\u001b[0m\u001b[1;33m\u001b[0m\u001b[1;33m\u001b[0m\u001b[0m\n\u001b[0m\u001b[0;32m    619\u001b[0m     \u001b[1;32mtry\u001b[0m\u001b[1;33m:\u001b[0m\u001b[1;33m\u001b[0m\u001b[1;33m\u001b[0m\u001b[0m\n\u001b[0;32m    620\u001b[0m         \u001b[0mos\u001b[0m\u001b[1;33m.\u001b[0m\u001b[0mrmdir\u001b[0m\u001b[1;33m(\u001b[0m\u001b[0mpath\u001b[0m\u001b[1;33m)\u001b[0m\u001b[1;33m\u001b[0m\u001b[1;33m\u001b[0m\u001b[0m\n",
      "\u001b[1;32m~\\anaconda3\\lib\\shutil.py\u001b[0m in \u001b[0;36m_rmtree_unsafe\u001b[1;34m(path, onerror)\u001b[0m\n\u001b[0;32m    614\u001b[0m         \u001b[1;32melse\u001b[0m\u001b[1;33m:\u001b[0m\u001b[1;33m\u001b[0m\u001b[1;33m\u001b[0m\u001b[0m\n\u001b[0;32m    615\u001b[0m             \u001b[1;32mtry\u001b[0m\u001b[1;33m:\u001b[0m\u001b[1;33m\u001b[0m\u001b[1;33m\u001b[0m\u001b[0m\n\u001b[1;32m--> 616\u001b[1;33m                 \u001b[0mos\u001b[0m\u001b[1;33m.\u001b[0m\u001b[0munlink\u001b[0m\u001b[1;33m(\u001b[0m\u001b[0mfullname\u001b[0m\u001b[1;33m)\u001b[0m\u001b[1;33m\u001b[0m\u001b[1;33m\u001b[0m\u001b[0m\n\u001b[0m\u001b[0;32m    617\u001b[0m             \u001b[1;32mexcept\u001b[0m \u001b[0mOSError\u001b[0m\u001b[1;33m:\u001b[0m\u001b[1;33m\u001b[0m\u001b[1;33m\u001b[0m\u001b[0m\n\u001b[0;32m    618\u001b[0m                 \u001b[0monerror\u001b[0m\u001b[1;33m(\u001b[0m\u001b[0mos\u001b[0m\u001b[1;33m.\u001b[0m\u001b[0munlink\u001b[0m\u001b[1;33m,\u001b[0m \u001b[0mfullname\u001b[0m\u001b[1;33m,\u001b[0m \u001b[0msys\u001b[0m\u001b[1;33m.\u001b[0m\u001b[0mexc_info\u001b[0m\u001b[1;33m(\u001b[0m\u001b[1;33m)\u001b[0m\u001b[1;33m)\u001b[0m\u001b[1;33m\u001b[0m\u001b[1;33m\u001b[0m\u001b[0m\n",
      "\u001b[1;31mPermissionError\u001b[0m: [WinError 32] The process cannot access the file because it is being used by another process: 'C:\\\\Users\\\\mirol\\\\AppData\\\\Local\\\\Temp\\\\tmppdk1i5si\\\\page-12.png'"
     ]
    }
   ],
   "source": [
    "files = os.listdir('./4')\n",
    "types = {}\n",
    "\n",
    "r = []\n",
    "for file in files:\n",
    "    tables = camelot.read_pdf('./4/' + file, pages='all')\n",
    "    print(\"************ FILE NAME: \" + file + \" ****************\")\n",
    "    dataFrames = []\n",
    "\n",
    "    types[file] = []\n",
    "    file_info = {}\n",
    "    stages = []\n",
    "    for table in tables:\n",
    "        df = table.df\n",
    "        stages_added = False\n",
    "        #dataFrames = []\n",
    "        gwp = ['GWP-total', 'GWP - Total', 'Global warming potential', 'GWP', 'Globales Erwärmungspotenzial ­ total', 'Globales Erwärmungspotenzial']\n",
    "        for g in gwp:\n",
    "            #if ('GWP-total' in df.values) or ('Global warming potential' in df.values) or ('GWP' in df.values) or ('Globales Erwärmungspotenzial ­ total' in df.values) or ('Globales Erwärmungspotenzial' in df.values):\n",
    "            if (g in df.values) and ('TRACI 2.1 Impact Assessment' not in df.values):\n",
    "                if not stages_added:\n",
    "                    try:\n",
    "                        #print(df.eq('Unit').any(1))\n",
    "                        print(df[df.eq('Unit').any(1)])\n",
    "                        print(df[df.eq('Unit').any(1)].values)\n",
    "                        print(df[df.eq('Unit').any(1)].values[0])\n",
    "                        print(list(df[df.eq('Unit').any(1)].values[0]))\n",
    "                        a = list(df[df.eq('Unit').any(1)].values[0])\n",
    "                        unit_index = a.index('Unit') + 1\n",
    "                        stages = a[unit_index:]\n",
    "                        print(\"------------STAGES--------------\")\n",
    "                        print(stages)\n",
    "                        print(a)\n",
    "                        print(unit_index)\n",
    "                    except:\n",
    "                        a = list(df[df.eq('Einheit').any(1)].values[0])\n",
    "                        unit_index = a.index('Einheit') + 1\n",
    "                        stages = a[unit_index:]\n",
    "                    stages_added = True\n",
    "\n",
    "                dataFrames.append(df)\n",
    "                types[file].append(g)\n",
    "\n",
    "        pere = ['PERE', 'Renewable primary energy as energy carrier', 'Erneuerbare Primärenergie als Energieträger']\n",
    "        for p in pere:\n",
    "            if p in df.values:\n",
    "        #if ('PERE' in df.values) or ('Renewable primary energy as energy carrier' in df.values) or ('Erneuerbare Primärenergie als Energieträger' in df.values):\n",
    "           # display(df)\n",
    "                dataFrames.append(df)\n",
    "                types[file].append(p)\n",
    "        hwd = ['HWD', 'Hazardous waste disposed', 'Gefährlicher Abfall zur Deponie']\n",
    "        for h in hwd:\n",
    "        #if ('HWD' in df.values) or ('Hazardous waste disposed' in df.values) or ('Gefährlicher Abfall zur Deponie' in df.values):\n",
    "            if h in df.values:\n",
    "                #display(df), \n",
    "                dataFrames.append(df)\n",
    "                types[file].append(h)\n",
    "                \n",
    "    result = pd.concat(dataFrames)\n",
    "    #display(result)\n",
    "    file_info[\"dataFrame\"] = result\n",
    "    if types[file] == ['GWP-total', 'PERE', 'HWD']:\n",
    "        file_info[\"type\"] = 1\n",
    "    else:\n",
    "        file_info[\"type\"] = 0\n",
    "        \n",
    "    file_info[\"file_name\"] = file\n",
    "    file_info[\"stages\"] = stages\n",
    "    \n",
    "    r.append(file_info)\n",
    "    \n",
    "    #write_to_excel(dataFrame, stages)\n",
    "make_excel_file(r)\n",
    "\n",
    "# print(types)\n",
    "# r"
   ]
  },
  {
   "cell_type": "code",
   "execution_count": null,
   "id": "8bd71fbd",
   "metadata": {},
   "outputs": [],
   "source": []
  },
  {
   "cell_type": "code",
   "execution_count": null,
   "id": "cbb2e9f6",
   "metadata": {},
   "outputs": [],
   "source": []
  },
  {
   "cell_type": "code",
   "execution_count": null,
   "id": "fbe878cf",
   "metadata": {},
   "outputs": [],
   "source": []
  },
  {
   "cell_type": "code",
   "execution_count": 6,
   "id": "738050c5",
   "metadata": {},
   "outputs": [
    {
     "name": "stdout",
     "output_type": "stream",
     "text": [
      "4\n"
     ]
    }
   ],
   "source": [
    "tables = camelot.read_pdf('./4/epd4042.pdf', pages='all')\n",
    "print(len(tables))"
   ]
  },
  {
   "cell_type": "code",
   "execution_count": 16,
   "id": "5f612ff7",
   "metadata": {},
   "outputs": [
    {
     "data": {
      "text/plain": [
       "'GWP - Total'"
      ]
     },
     "execution_count": 16,
     "metadata": {},
     "output_type": "execute_result"
    }
   ],
   "source": [
    "tables[1].df[0][4]"
   ]
  },
  {
   "cell_type": "code",
   "execution_count": 47,
   "id": "73ce8d54",
   "metadata": {},
   "outputs": [
    {
     "data": {
      "text/plain": [
       "'epd4061.pdf'"
      ]
     },
     "execution_count": 47,
     "metadata": {},
     "output_type": "execute_result"
    }
   ],
   "source": [
    "r[20]['file_name']"
   ]
  },
  {
   "cell_type": "code",
   "execution_count": 26,
   "id": "337b0cf9",
   "metadata": {},
   "outputs": [
    {
     "data": {
      "text/plain": [
       "['GWP - Total', 'PENRE', 'CRU']"
      ]
     },
     "execution_count": 26,
     "metadata": {},
     "output_type": "execute_result"
    }
   ],
   "source": [
    "r[0]['dataFrame'][0][4].to_list()"
   ]
  },
  {
   "cell_type": "code",
   "execution_count": 80,
   "id": "8c0071db",
   "metadata": {},
   "outputs": [
    {
     "ename": "IndexError",
     "evalue": "list index out of range",
     "output_type": "error",
     "traceback": [
      "\u001b[1;31m---------------------------------------------------------------------------\u001b[0m",
      "\u001b[1;31mIndexError\u001b[0m                                Traceback (most recent call last)",
      "\u001b[1;32m<ipython-input-80-73085b1e4341>\u001b[0m in \u001b[0;36m<module>\u001b[1;34m\u001b[0m\n\u001b[1;32m----> 1\u001b[1;33m \u001b[0mtest_df\u001b[0m \u001b[1;33m=\u001b[0m \u001b[0mr\u001b[0m\u001b[1;33m[\u001b[0m\u001b[1;36m0\u001b[0m\u001b[1;33m]\u001b[0m\u001b[1;33m[\u001b[0m\u001b[1;34m'dataFrame'\u001b[0m\u001b[1;33m]\u001b[0m\u001b[1;33m\u001b[0m\u001b[1;33m\u001b[0m\u001b[0m\n\u001b[0m\u001b[0;32m      2\u001b[0m \u001b[0mtest_df\u001b[0m\u001b[1;33m\u001b[0m\u001b[1;33m\u001b[0m\u001b[0m\n",
      "\u001b[1;31mIndexError\u001b[0m: list index out of range"
     ]
    }
   ],
   "source": [
    "test_df = r[0]['dataFrame']\n",
    "test_df"
   ]
  },
  {
   "cell_type": "code",
   "execution_count": 49,
   "id": "90eedde2",
   "metadata": {},
   "outputs": [],
   "source": [
    "a = list(test_df[test_df.eq('Unit').any(1)].values[0])\n",
    "unit_index = a.index('Unit') + 1\n",
    "stages = a[unit_index:]"
   ]
  },
  {
   "cell_type": "code",
   "execution_count": 51,
   "id": "602f58c0",
   "metadata": {},
   "outputs": [
    {
     "data": {
      "text/plain": [
       "8"
      ]
     },
     "execution_count": 51,
     "metadata": {},
     "output_type": "execute_result"
    }
   ],
   "source": [
    "len(stages)"
   ]
  },
  {
   "cell_type": "code",
   "execution_count": 52,
   "id": "632467cd",
   "metadata": {},
   "outputs": [
    {
     "data": {
      "text/plain": [
       "['A1-A3', 'A4', 'C1', 'C2', 'C3', 'C4', 'D', nan]"
      ]
     },
     "execution_count": 52,
     "metadata": {},
     "output_type": "execute_result"
    }
   ],
   "source": [
    "stages"
   ]
  },
  {
   "cell_type": "code",
   "execution_count": 64,
   "id": "39e09284",
   "metadata": {},
   "outputs": [
    {
     "data": {
      "text/plain": [
       "array(['Impact \\nCategory', 'Unit', 'A1-A3', 'A4', 'C1', 'C2', 'C3', 'C4',\n",
       "       'D', nan], dtype=object)"
      ]
     },
     "execution_count": 64,
     "metadata": {},
     "output_type": "execute_result"
    }
   ],
   "source": [
    "test_df[test_df.eq('Unit').any(1)].values"
   ]
  },
  {
   "cell_type": "code",
   "execution_count": 74,
   "id": "233790fe",
   "metadata": {},
   "outputs": [
    {
     "data": {
      "text/plain": [
       "['Impact \\nCategory', 'Unit', 'A1-A3', 'A4', 'A5', 'C1', 'C2', 'C3', 'C4', 'D']"
      ]
     },
     "execution_count": 74,
     "metadata": {},
     "output_type": "execute_result"
    }
   ],
   "source": [
    "\n",
    "\n",
    "droped_nan = []\n",
    "for row in test_df[test_df.eq('Unit').any(1)].values: \n",
    "    r = [e for e in row if str(e) != 'nan']\n",
    "    droped_nan.append(r)\n",
    "droped_nan\n",
    "lengh_of_droped_nan = [len(list) for list in droped_nan]\n",
    "droped_nan[lengh_of_droped_nan.index(max(lengh_of_droped_nan))]\n"
   ]
  },
  {
   "cell_type": "code",
   "execution_count": 75,
   "id": "ed2ecbba",
   "metadata": {},
   "outputs": [],
   "source": [
    "droped_nan = []\n",
    "lists = list(test_df[test_df.eq('Unit').any(1)].values)\n",
    "for list in lists:\n",
    "    r = [e for e in row if str(e) != 'nan']\n",
    "    droped_nan.append(r)\n",
    "lengh_of_droped_nan = [len(list) for list in droped_nan]\n",
    "longest_list = droped_nan[lengh_of_droped_nan.index(max(lengh_of_droped_nan))]\n",
    "\n",
    "unit_index = longest_list.index('Unit') + 1\n",
    "stages = longest_list[unit_index:]"
   ]
  },
  {
   "cell_type": "code",
   "execution_count": 76,
   "id": "26391db4",
   "metadata": {},
   "outputs": [
    {
     "data": {
      "text/plain": [
       "['A1-A3', 'A4', 'A5', 'C1', 'C2', 'C3', 'C4', 'D']"
      ]
     },
     "execution_count": 76,
     "metadata": {},
     "output_type": "execute_result"
    }
   ],
   "source": [
    "stages"
   ]
  },
  {
   "cell_type": "code",
   "execution_count": null,
   "id": "e7a0006c",
   "metadata": {},
   "outputs": [],
   "source": [
    "droped_nan = []\n",
    "lists = list(df[df.eq('Unit').any(1)].values)\n",
    "for list in lists:\n",
    "    r = [e for e in list if str(e) != 'nan']\n",
    "    droped_nan.append(r)\n",
    "lengh_of_droped_nan = [len(list) for list in droped_nan]\n",
    "longest_list = droped_nan[lengh_of_droped_nan.index(max(lengh_of_droped_nan))]\n",
    "\n",
    "unit_index = longest_list.index('Unit') + 1\n",
    "stages = longest_list[unit_index:]"
   ]
  },
  {
   "cell_type": "code",
   "execution_count": 10,
   "id": "8bffc055",
   "metadata": {},
   "outputs": [
    {
     "data": {
      "text/plain": [
       "['Impact \\nCategory',\n",
       " 'Unit',\n",
       " 'A1-A3',\n",
       " 'A4',\n",
       " 'A5',\n",
       " 'C1',\n",
       " 'C2',\n",
       " 'C3',\n",
       " 'C4',\n",
       " 'D',\n",
       " {'dataFrame':                     0                                                  1  \\\n",
       "  0   Impact \\nCategory                                               Unit   \n",
       "  1        GWP - Fossil                                          kg CO2 eq   \n",
       "  2      GWP - Biogenic                                          kg CO2 eq   \n",
       "  3         GWP - Luluc                                          kg CO2 eq   \n",
       "  4         GWP - Total                                          kg CO2 eq   \n",
       "  5                 ODP                                       kg CFC-11 eq   \n",
       "  6                  AP                                          mol H+ eq   \n",
       "  7     EP - Freshwater                                            kg P eq   \n",
       "  8    *EP - Freshwater                                          kg PO4 eq   \n",
       "  9         EP - Marine                                            kg N eq   \n",
       "  10   EP - Terrestrial                                           mol N eq   \n",
       "  11               POCP                                           kg NMVOC   \n",
       "  12               ADPE                                           kg Sb eq   \n",
       "  13               ADPF                                                 MJ   \n",
       "  14                WDP                                         m3 depriv.   \n",
       "  15                 PM                                       disease inc.   \n",
       "  16                 IR                                       kBq U-235 eq   \n",
       "  17           ETP - FW                                               CTUe   \n",
       "  18           HTTP - C                                               CTUh   \n",
       "  19          HTTP - NC                                               CTUh   \n",
       "  20                SQP                                                 Pt   \n",
       "  21           Acronyms  GWP-total: Climate change, GWP-fossil: Climate...   \n",
       "  22             Legend  A1:  Raw  Material  Supply,  A2:  Transport,  ...   \n",
       "  23       Disclaimer 1  This  impact  category  deals  mainly  with  t...   \n",
       "  24       Disclaimer 2  The results of this environmental impact indic...   \n",
       "  25      *Disclaimer 3  EP-freshwater: This indicator has been calcula...   \n",
       "  0   Impact \\nCategory                                               Unit   \n",
       "  1                PERE                                                 MJ   \n",
       "  2                PERM                                                 MJ   \n",
       "  3                PERT                                                 MJ   \n",
       "  4               PENRE                                                 MJ   \n",
       "  5               PENRM                                                 MJ   \n",
       "  6               PENRT                                                 MJ   \n",
       "  7                  SM                                                 kg   \n",
       "  8                 RSF                                                 MJ   \n",
       "  9                NRSF                                                 MJ   \n",
       "  10                 FW                                                 m3   \n",
       "  11           Acronyms  PERE: Use of renewable primary energy excludin...   \n",
       "  12             Legend  A1: Raw Material Supply, A2: Transport,  A3: M...   \n",
       "  0   Impact \\nCategory                                               Unit   \n",
       "  1                 HWD                                                 kg   \n",
       "  2                NHWD                                                 kg   \n",
       "  3                 RWD                                                 kg   \n",
       "  4                 CRU                                                 kg   \n",
       "  5                 MFR                                                 kg   \n",
       "  6                 MER                                                 kg   \n",
       "  7     EE (Electrical)                                                 MJ   \n",
       "  8        EE (Thermal)                                                 MJ   \n",
       "  9            Acronyms  HWD:  Hazardous  waste  disposed,  NHWD:  Non-...   \n",
       "  10             Legend  A1: Raw Material Supply, A2: Transport,  A3: M...   \n",
       "  \n",
       "            2         3   4         5         6   7         8         9  \n",
       "  0     A1-A3        A4  A5        C1        C2  C3        C4         D  \n",
       "  1      2.38     0.032   0     0.059     0.009   0     0.001     -2.01  \n",
       "  2     0.010   23.1E-6   0     0.001   6.60E-6   0     0.013    -0.009  \n",
       "  3     0.002   9.29E-6   0     0.001   2.65E-6   0     0.000    -0.002  \n",
       "  4      2.39     0.032   0     0.060     0.009   0     0.015     -2.02  \n",
       "  5    122E-9   7.48E-9   0   1.66E-9   2.14E-9   0   335E-12   -103E-9  \n",
       "  6     0.014    134E-6   0    387E-6   38.2E-6   0   8.27E-6    -0.011  \n",
       "  7     0.002   2.25E-6   0   62.1E-6    643E-9   0    280E-9    -0.002  \n",
       "  8     0.006   6.89E-6   0    190E-6   1.97E-6   0    856E-9    -0.005  \n",
       "  9     0.003   40.6E-6   0   63.0E-6   11.6E-6   0   28.1E-6    -0.002  \n",
       "  10    0.031    445E-6   0     0.001    127E-6   0   30.5E-6    -0.026  \n",
       "  11    0.012    143E-6   0    156E-6   40.8E-6   0   11.8E-6    -0.010  \n",
       "  12    0.008    543E-9   0    142E-9    155E-9   0   7.30E-9    -0.006  \n",
       "  13     25.2     0.495   0     0.647     0.141   0     0.024     -21.3  \n",
       "  14    0.681     0.002   0     0.028    459E-6   0    229E-6    -0.576  \n",
       "  15   195E-9   2.88E-9   0   1.65E-9   823E-12   0   152E-12   -165E-9  \n",
       "  16    0.151     0.003   0     0.001     0.001   0    123E-6    -0.128  \n",
       "  17      173     0.394   0     0.566     0.113   0     0.085      -147  \n",
       "  18  19.2E-9  9.71E-12   0  10.4E-12  2.77E-12   0   682E-15  -16.3E-9  \n",
       "  19   123E-9   448E-12   0   498E-12   128E-12   0  28.2E-12   -104E-9  \n",
       "  20     9.71     0.567   0     0.037     0.162   0     0.050     -8.18  \n",
       "  21                                                                     \n",
       "  22                                                                     \n",
       "  23                                                                     \n",
       "  24                                                                     \n",
       "  25                                                                     \n",
       "  0     A1-A3        A4  A5        C1        C2  C3        C4         D  \n",
       "  1      2.79     0.006   0     0.155     0.002   0     0.001     -2.35  \n",
       "  2         0         0   0         0         0   0         0         0  \n",
       "  3      2.79     0.006   0     0.155     0.002   0     0.001     -2.35  \n",
       "  4      25.2    495E-3   0    647E-3    141E-3   0   23.7E-3     -21.3  \n",
       "  5         0         0   0         0         0   0         0         0  \n",
       "  6      25.2    495E-3   0    647E-3    141E-3   0   23.7E-3     -21.3  \n",
       "  7         0         0   0         0         0   0         0         0  \n",
       "  8         0         0   0         0         0   0         0         0  \n",
       "  9         0         0   0         0         0   0         0         0  \n",
       "  10    0.048    103E-6   0    247E-6   29.4E-6   0   26.0E-6    -0.041  \n",
       "  11                                                                     \n",
       "  12                                                                     \n",
       "  0     A1-A3        A4  A5        C1        C2  C3        C4         D  \n",
       "  1   20.5E-6         0   0         0         0   0         0         0  \n",
       "  2    191E-6         0   0         0         0   0         0         0  \n",
       "  3         0         0   0         0         0   0         0         0  \n",
       "  4         0         0   0         0         0   0         0         0  \n",
       "  5         0         0   0         0         0   0         0         0  \n",
       "  6         0         0   0         0         0   0         0         0  \n",
       "  7         0         0   0         0         0   0         0         0  \n",
       "  8         0         0   0         0         0   0         0         0  \n",
       "  9                                                                      \n",
       "  10                                                                     ,\n",
       "  'type': 0,\n",
       "  'file_name': 'epd4075.pdf',\n",
       "  'stages': ['A1-A3', 'A4', 'A5', 'C1', 'C2', 'C3', 'C4', 'D']}]"
      ]
     },
     "execution_count": 10,
     "metadata": {},
     "output_type": "execute_result"
    }
   ],
   "source": [
    "r"
   ]
  },
  {
   "cell_type": "code",
   "execution_count": 7,
   "id": "f09da6fd",
   "metadata": {},
   "outputs": [
    {
     "data": {
      "text/plain": [
       "[]"
      ]
     },
     "execution_count": 7,
     "metadata": {},
     "output_type": "execute_result"
    }
   ],
   "source": [
    "r"
   ]
  },
  {
   "cell_type": "code",
   "execution_count": null,
   "id": "e1d13b7a",
   "metadata": {},
   "outputs": [],
   "source": []
  }
 ],
 "metadata": {
  "kernelspec": {
   "display_name": "Python 3",
   "language": "python",
   "name": "python3"
  },
  "language_info": {
   "codemirror_mode": {
    "name": "ipython",
    "version": 3
   },
   "file_extension": ".py",
   "mimetype": "text/x-python",
   "name": "python",
   "nbconvert_exporter": "python",
   "pygments_lexer": "ipython3",
   "version": "3.8.8"
  }
 },
 "nbformat": 4,
 "nbformat_minor": 5
}
